{
 "cells": [
  {
   "cell_type": "code",
   "execution_count": 1,
   "metadata": {},
   "outputs": [
    {
     "name": "stderr",
     "output_type": "stream",
     "text": [
      "C:\\Hnin\\Anaconda3\\lib\\site-packages\\statsmodels\\tools\\_testing.py:19: FutureWarning: pandas.util.testing is deprecated. Use the functions in the public API at pandas.testing instead.\n",
      "  import pandas.util.testing as tm\n"
     ]
    }
   ],
   "source": [
    "import pandas as pd\n",
    "import numpy as np\n",
    "\n",
    "import os\n",
    "import sys\n",
    "sys.path.append(os.path.abspath('../'))\n",
    "\n",
    "from src.data.utility import DataReader, BeerData\n",
    "\n",
    "import warnings\n",
    "warnings.simplefilter(action='ignore', category=FutureWarning)\n",
    "\n",
    "%load_ext autoreload\n",
    "%autoreload 2"
   ]
  },
  {
   "cell_type": "code",
   "execution_count": 2,
   "metadata": {},
   "outputs": [],
   "source": [
    "# Instantiate the custom data reader class\n",
    "data_reader = DataReader()\n",
    "# Load Raw Train Data\n",
    "train_df = data_reader.read_data(BeerData.RAW)"
   ]
  },
  {
   "cell_type": "markdown",
   "metadata": {},
   "source": [
    "### 1. View Original Data"
   ]
  },
  {
   "cell_type": "code",
   "execution_count": 152,
   "metadata": {},
   "outputs": [
    {
     "name": "stdout",
     "output_type": "stream",
     "text": [
      "<class 'pandas.core.frame.DataFrame'>\n",
      "RangeIndex: 1586614 entries, 0 to 1586613\n",
      "Data columns (total 13 columns):\n",
      " #   Column              Non-Null Count    Dtype  \n",
      "---  ------              --------------    -----  \n",
      " 0   brewery_id          1586614 non-null  int64  \n",
      " 1   brewery_name        1586599 non-null  object \n",
      " 2   review_time         1586614 non-null  int64  \n",
      " 3   review_overall      1586614 non-null  float64\n",
      " 4   review_aroma        1586614 non-null  float64\n",
      " 5   review_appearance   1586614 non-null  float64\n",
      " 6   review_profilename  1586266 non-null  object \n",
      " 7   beer_style          1586614 non-null  object \n",
      " 8   review_palate       1586614 non-null  float64\n",
      " 9   review_taste        1586614 non-null  float64\n",
      " 10  beer_name           1586614 non-null  object \n",
      " 11  beer_abv            1518829 non-null  float64\n",
      " 12  beer_beerid         1586614 non-null  int64  \n",
      "dtypes: float64(6), int64(3), object(4)\n",
      "memory usage: 157.4+ MB\n",
      "Raw Data Dimension (1586614, 13)\n"
     ]
    }
   ],
   "source": [
    "train_df.info()\n",
    "print(\"Raw Data Dimension\", train_df.shape)"
   ]
  },
  {
   "cell_type": "code",
   "execution_count": 3,
   "metadata": {},
   "outputs": [
    {
     "data": {
      "text/plain": [
       "(5743, 1)"
      ]
     },
     "execution_count": 3,
     "metadata": {},
     "output_type": "execute_result"
    }
   ],
   "source": [
    "brewey_name_list = pd.DataFrame(train_df['brewery_name'].unique(), columns=['Brewery_Name'])\n",
    "#brewey_name_list.to_csv(\"../reports/brewery_name_list.csv\")\n",
    "brewey_name_list.shape"
   ]
  },
  {
   "cell_type": "markdown",
   "metadata": {},
   "source": [
    "### 2. Exmine NULL values and Drop the rows with Null for brewery_name"
   ]
  },
  {
   "cell_type": "code",
   "execution_count": 15,
   "metadata": {},
   "outputs": [
    {
     "data": {
      "text/plain": [
       "brewery_id                0\n",
       "brewery_name             15\n",
       "review_time               0\n",
       "review_overall            0\n",
       "review_aroma              0\n",
       "review_appearance         0\n",
       "review_profilename      348\n",
       "beer_style                0\n",
       "review_palate             0\n",
       "review_taste              0\n",
       "beer_name                 0\n",
       "beer_abv              67785\n",
       "beer_beerid               0\n",
       "dtype: int64"
      ]
     },
     "execution_count": 15,
     "metadata": {},
     "output_type": "execute_result"
    }
   ],
   "source": [
    "train_df.isna().sum()"
   ]
  },
  {
   "cell_type": "code",
   "execution_count": 16,
   "metadata": {},
   "outputs": [
    {
     "data": {
      "text/plain": [
       "(15, 13)"
      ]
     },
     "execution_count": 16,
     "metadata": {},
     "output_type": "execute_result"
    }
   ],
   "source": [
    "### Exmine How many row has missing brewy names\n",
    "brew_name_null = train_df[train_df['brewery_name'].isnull()]\n",
    "brew_name_null.shape\n",
    "## 15 rows missing for brewy-names  at brewery_id 1193 x 9 and 27 X 6"
   ]
  },
  {
   "cell_type": "code",
   "execution_count": 17,
   "metadata": {},
   "outputs": [],
   "source": [
    "### Drop the rows if \"brewy_name\" is NULL\n",
    "### Select only non-null value of brewry_name\n",
    "df_cleaned = train_df.copy()\n",
    "df_cleaned = df_cleaned[df_cleaned['brewery_name'].notnull()]\n",
    "# df_cleaned.head()"
   ]
  },
  {
   "cell_type": "markdown",
   "metadata": {},
   "source": [
    "### 3. Select the features - Drop unpromising-looking features"
   ]
  },
  {
   "cell_type": "code",
   "execution_count": 18,
   "metadata": {},
   "outputs": [
    {
     "data": {
      "text/plain": [
       "brewery_name         0\n",
       "review_aroma         0\n",
       "review_appearance    0\n",
       "beer_style           0\n",
       "review_palate        0\n",
       "review_taste         0\n",
       "dtype: int64"
      ]
     },
     "execution_count": 18,
     "metadata": {},
     "output_type": "execute_result"
    }
   ],
   "source": [
    "# Follow the commonsense\n",
    "col_to_drop = ['beer_beerid', 'brewery_id', \"review_profilename\", \"beer_name\", \"review_time\", \"review_overall\", \"beer_abv\"]\n",
    "target_column = 'beer_style'\n",
    "\n",
    "df_cleaned = df_cleaned.drop(col_to_drop, axis = 1)\n",
    "\n",
    "#df_cleaned.head()\n",
    "df_cleaned.isna().sum()"
   ]
  },
  {
   "cell_type": "markdown",
   "metadata": {},
   "source": [
    "### 4. Data Pre-processing Pipeline 1 - Label Encoding to Target Column"
   ]
  },
  {
   "cell_type": "code",
   "execution_count": 20,
   "metadata": {},
   "outputs": [
    {
     "data": {
      "text/html": [
       "<div>\n",
       "<style scoped>\n",
       "    .dataframe tbody tr th:only-of-type {\n",
       "        vertical-align: middle;\n",
       "    }\n",
       "\n",
       "    .dataframe tbody tr th {\n",
       "        vertical-align: top;\n",
       "    }\n",
       "\n",
       "    .dataframe thead th {\n",
       "        text-align: right;\n",
       "    }\n",
       "</style>\n",
       "<table border=\"1\" class=\"dataframe\">\n",
       "  <thead>\n",
       "    <tr style=\"text-align: right;\">\n",
       "      <th></th>\n",
       "      <th>index</th>\n",
       "      <th>beer_style_encoded</th>\n",
       "    </tr>\n",
       "  </thead>\n",
       "  <tbody>\n",
       "    <tr>\n",
       "      <th>0</th>\n",
       "      <td>12</td>\n",
       "      <td>117584</td>\n",
       "    </tr>\n",
       "    <tr>\n",
       "      <th>1</th>\n",
       "      <td>9</td>\n",
       "      <td>85977</td>\n",
       "    </tr>\n",
       "    <tr>\n",
       "      <th>2</th>\n",
       "      <td>14</td>\n",
       "      <td>63469</td>\n",
       "    </tr>\n",
       "    <tr>\n",
       "      <th>3</th>\n",
       "      <td>89</td>\n",
       "      <td>54129</td>\n",
       "    </tr>\n",
       "    <tr>\n",
       "      <th>4</th>\n",
       "      <td>11</td>\n",
       "      <td>50705</td>\n",
       "    </tr>\n",
       "    <tr>\n",
       "      <th>...</th>\n",
       "      <td>...</td>\n",
       "      <td>...</td>\n",
       "    </tr>\n",
       "    <tr>\n",
       "      <th>99</th>\n",
       "      <td>62</td>\n",
       "      <td>686</td>\n",
       "    </tr>\n",
       "    <tr>\n",
       "      <th>100</th>\n",
       "      <td>56</td>\n",
       "      <td>609</td>\n",
       "    </tr>\n",
       "    <tr>\n",
       "      <th>101</th>\n",
       "      <td>88</td>\n",
       "      <td>466</td>\n",
       "    </tr>\n",
       "    <tr>\n",
       "      <th>102</th>\n",
       "      <td>72</td>\n",
       "      <td>297</td>\n",
       "    </tr>\n",
       "    <tr>\n",
       "      <th>103</th>\n",
       "      <td>64</td>\n",
       "      <td>241</td>\n",
       "    </tr>\n",
       "  </tbody>\n",
       "</table>\n",
       "<p>104 rows × 2 columns</p>\n",
       "</div>"
      ],
      "text/plain": [
       "     index  beer_style_encoded\n",
       "0       12              117584\n",
       "1        9               85977\n",
       "2       14               63469\n",
       "3       89               54129\n",
       "4       11               50705\n",
       "..     ...                 ...\n",
       "99      62                 686\n",
       "100     56                 609\n",
       "101     88                 466\n",
       "102     72                 297\n",
       "103     64                 241\n",
       "\n",
       "[104 rows x 2 columns]"
      ]
     },
     "execution_count": 20,
     "metadata": {},
     "output_type": "execute_result"
    }
   ],
   "source": [
    "import pandas as pd\n",
    "from sklearn.preprocessing import LabelEncoder\n",
    "from sklearn.pipeline import Pipeline\n",
    "from src.models.pytorch import New_LabelEncoder\n",
    "\n",
    "pip = Pipeline(steps = [('l_encoder', New_LabelEncoder())])\n",
    "df_cleaned['beer_style_encoded'] = pip.fit_transform(df_cleaned['beer_style'])\n",
    "\n",
    "# Save the pipeline\n",
    "from joblib import dump, load\n",
    "dump(pip, '../models/pipeline/te_pipeline.sav')\n",
    "\n",
    "# Drop the beer_style column\n",
    "beer_style = df_cleaned.pop('beer_style')\n",
    "\n",
    "df_cleaned['beer_style_encoded'].value_counts().reset_index()\n",
    "#print(df_cleaned.isna().sum())"
   ]
  },
  {
   "cell_type": "code",
   "execution_count": 50,
   "metadata": {},
   "outputs": [
    {
     "data": {
      "text/html": [
       "<div>\n",
       "<style scoped>\n",
       "    .dataframe tbody tr th:only-of-type {\n",
       "        vertical-align: middle;\n",
       "    }\n",
       "\n",
       "    .dataframe tbody tr th {\n",
       "        vertical-align: top;\n",
       "    }\n",
       "\n",
       "    .dataframe thead th {\n",
       "        text-align: right;\n",
       "    }\n",
       "</style>\n",
       "<table border=\"1\" class=\"dataframe\">\n",
       "  <thead>\n",
       "    <tr style=\"text-align: right;\">\n",
       "      <th></th>\n",
       "      <th>brewery_id</th>\n",
       "      <th>review_time</th>\n",
       "      <th>review_overall</th>\n",
       "      <th>review_aroma</th>\n",
       "      <th>review_appearance</th>\n",
       "      <th>review_palate</th>\n",
       "      <th>review_taste</th>\n",
       "      <th>beer_abv</th>\n",
       "      <th>beer_beerid</th>\n",
       "      <th>beer_style_encoded</th>\n",
       "    </tr>\n",
       "  </thead>\n",
       "  <tbody>\n",
       "    <tr>\n",
       "      <th>count</th>\n",
       "      <td>1.586599e+06</td>\n",
       "      <td>1.586599e+06</td>\n",
       "      <td>1.586599e+06</td>\n",
       "      <td>1.586599e+06</td>\n",
       "      <td>1.586599e+06</td>\n",
       "      <td>1.586599e+06</td>\n",
       "      <td>1.586599e+06</td>\n",
       "      <td>1.518814e+06</td>\n",
       "      <td>1.586599e+06</td>\n",
       "      <td>1.586599e+06</td>\n",
       "    </tr>\n",
       "    <tr>\n",
       "      <th>mean</th>\n",
       "      <td>3.130122e+03</td>\n",
       "      <td>1.224089e+09</td>\n",
       "      <td>3.815584e+00</td>\n",
       "      <td>3.735638e+00</td>\n",
       "      <td>3.841647e+00</td>\n",
       "      <td>3.743705e+00</td>\n",
       "      <td>3.792864e+00</td>\n",
       "      <td>7.042396e+00</td>\n",
       "      <td>2.171249e+04</td>\n",
       "      <td>4.214239e+01</td>\n",
       "    </tr>\n",
       "    <tr>\n",
       "      <th>std</th>\n",
       "      <td>5.578125e+03</td>\n",
       "      <td>7.654410e+07</td>\n",
       "      <td>7.206191e-01</td>\n",
       "      <td>6.976142e-01</td>\n",
       "      <td>6.160899e-01</td>\n",
       "      <td>6.822131e-01</td>\n",
       "      <td>7.319658e-01</td>\n",
       "      <td>2.322532e+00</td>\n",
       "      <td>2.181807e+04</td>\n",
       "      <td>3.302083e+01</td>\n",
       "    </tr>\n",
       "    <tr>\n",
       "      <th>min</th>\n",
       "      <td>1.000000e+00</td>\n",
       "      <td>8.406720e+08</td>\n",
       "      <td>0.000000e+00</td>\n",
       "      <td>1.000000e+00</td>\n",
       "      <td>0.000000e+00</td>\n",
       "      <td>1.000000e+00</td>\n",
       "      <td>1.000000e+00</td>\n",
       "      <td>1.000000e-02</td>\n",
       "      <td>3.000000e+00</td>\n",
       "      <td>0.000000e+00</td>\n",
       "    </tr>\n",
       "    <tr>\n",
       "      <th>25%</th>\n",
       "      <td>1.430000e+02</td>\n",
       "      <td>1.173224e+09</td>\n",
       "      <td>3.500000e+00</td>\n",
       "      <td>3.500000e+00</td>\n",
       "      <td>3.500000e+00</td>\n",
       "      <td>3.500000e+00</td>\n",
       "      <td>3.500000e+00</td>\n",
       "      <td>5.200000e+00</td>\n",
       "      <td>1.717000e+03</td>\n",
       "      <td>1.200000e+01</td>\n",
       "    </tr>\n",
       "    <tr>\n",
       "      <th>50%</th>\n",
       "      <td>4.290000e+02</td>\n",
       "      <td>1.239202e+09</td>\n",
       "      <td>4.000000e+00</td>\n",
       "      <td>4.000000e+00</td>\n",
       "      <td>4.000000e+00</td>\n",
       "      <td>4.000000e+00</td>\n",
       "      <td>4.000000e+00</td>\n",
       "      <td>6.500000e+00</td>\n",
       "      <td>1.390600e+04</td>\n",
       "      <td>3.100000e+01</td>\n",
       "    </tr>\n",
       "    <tr>\n",
       "      <th>75%</th>\n",
       "      <td>2.372000e+03</td>\n",
       "      <td>1.288568e+09</td>\n",
       "      <td>4.500000e+00</td>\n",
       "      <td>4.000000e+00</td>\n",
       "      <td>4.000000e+00</td>\n",
       "      <td>4.000000e+00</td>\n",
       "      <td>4.500000e+00</td>\n",
       "      <td>8.500000e+00</td>\n",
       "      <td>3.944100e+04</td>\n",
       "      <td>7.400000e+01</td>\n",
       "    </tr>\n",
       "    <tr>\n",
       "      <th>max</th>\n",
       "      <td>2.800300e+04</td>\n",
       "      <td>1.326285e+09</td>\n",
       "      <td>5.000000e+00</td>\n",
       "      <td>5.000000e+00</td>\n",
       "      <td>5.000000e+00</td>\n",
       "      <td>5.000000e+00</td>\n",
       "      <td>5.000000e+00</td>\n",
       "      <td>5.770000e+01</td>\n",
       "      <td>7.731700e+04</td>\n",
       "      <td>1.030000e+02</td>\n",
       "    </tr>\n",
       "  </tbody>\n",
       "</table>\n",
       "</div>"
      ],
      "text/plain": [
       "         brewery_id   review_time  review_overall  review_aroma  \\\n",
       "count  1.586599e+06  1.586599e+06    1.586599e+06  1.586599e+06   \n",
       "mean   3.130122e+03  1.224089e+09    3.815584e+00  3.735638e+00   \n",
       "std    5.578125e+03  7.654410e+07    7.206191e-01  6.976142e-01   \n",
       "min    1.000000e+00  8.406720e+08    0.000000e+00  1.000000e+00   \n",
       "25%    1.430000e+02  1.173224e+09    3.500000e+00  3.500000e+00   \n",
       "50%    4.290000e+02  1.239202e+09    4.000000e+00  4.000000e+00   \n",
       "75%    2.372000e+03  1.288568e+09    4.500000e+00  4.000000e+00   \n",
       "max    2.800300e+04  1.326285e+09    5.000000e+00  5.000000e+00   \n",
       "\n",
       "       review_appearance  review_palate  review_taste      beer_abv  \\\n",
       "count       1.586599e+06   1.586599e+06  1.586599e+06  1.518814e+06   \n",
       "mean        3.841647e+00   3.743705e+00  3.792864e+00  7.042396e+00   \n",
       "std         6.160899e-01   6.822131e-01  7.319658e-01  2.322532e+00   \n",
       "min         0.000000e+00   1.000000e+00  1.000000e+00  1.000000e-02   \n",
       "25%         3.500000e+00   3.500000e+00  3.500000e+00  5.200000e+00   \n",
       "50%         4.000000e+00   4.000000e+00  4.000000e+00  6.500000e+00   \n",
       "75%         4.000000e+00   4.000000e+00  4.500000e+00  8.500000e+00   \n",
       "max         5.000000e+00   5.000000e+00  5.000000e+00  5.770000e+01   \n",
       "\n",
       "        beer_beerid  beer_style_encoded  \n",
       "count  1.586599e+06        1.586599e+06  \n",
       "mean   2.171249e+04        4.214239e+01  \n",
       "std    2.181807e+04        3.302083e+01  \n",
       "min    3.000000e+00        0.000000e+00  \n",
       "25%    1.717000e+03        1.200000e+01  \n",
       "50%    1.390600e+04        3.100000e+01  \n",
       "75%    3.944100e+04        7.400000e+01  \n",
       "max    7.731700e+04        1.030000e+02  "
      ]
     },
     "execution_count": 50,
     "metadata": {},
     "output_type": "execute_result"
    }
   ],
   "source": [
    "df_cleaned.describe()"
   ]
  },
  {
   "cell_type": "markdown",
   "metadata": {},
   "source": [
    "### 5. Data Processing Pipeline 2:  Perform scaling and categorical encoding"
   ]
  },
  {
   "cell_type": "code",
   "execution_count": 8,
   "metadata": {},
   "outputs": [
    {
     "ename": "NameError",
     "evalue": "name 'obs' is not defined",
     "output_type": "error",
     "traceback": [
      "\u001b[1;31m---------------------------------------------------------------------------\u001b[0m",
      "\u001b[1;31mNameError\u001b[0m                                 Traceback (most recent call last)",
      "\u001b[1;32m<ipython-input-8-4e198ecee085>\u001b[0m in \u001b[0;36m<module>\u001b[1;34m\u001b[0m\n\u001b[0;32m      7\u001b[0m \u001b[1;31m# df_cleaned_encoded\u001b[0m\u001b[1;33m\u001b[0m\u001b[1;33m\u001b[0m\u001b[1;33m\u001b[0m\u001b[0m\n\u001b[0;32m      8\u001b[0m \u001b[1;33m\u001b[0m\u001b[0m\n\u001b[1;32m----> 9\u001b[1;33m \u001b[0mobs\u001b[0m\u001b[1;33m\u001b[0m\u001b[1;33m\u001b[0m\u001b[0m\n\u001b[0m\u001b[0;32m     10\u001b[0m \u001b[0mall_features\u001b[0m \u001b[1;33m=\u001b[0m \u001b[1;33m[\u001b[0m\u001b[1;34m'brewery_name'\u001b[0m\u001b[1;33m,\u001b[0m \u001b[1;34m'review_aroma'\u001b[0m\u001b[1;33m,\u001b[0m \u001b[1;34m'review_appearance'\u001b[0m\u001b[1;33m,\u001b[0m \u001b[1;34m'review_palate'\u001b[0m\u001b[1;33m,\u001b[0m \u001b[1;34m'review_taste'\u001b[0m \u001b[1;33m]\u001b[0m\u001b[1;33m\u001b[0m\u001b[1;33m\u001b[0m\u001b[0m\n\u001b[0;32m     11\u001b[0m \u001b[0mnum_cols\u001b[0m \u001b[1;33m=\u001b[0m \u001b[1;33m[\u001b[0m\u001b[1;34m'review_aroma'\u001b[0m\u001b[1;33m,\u001b[0m \u001b[1;34m'review_appearance'\u001b[0m\u001b[1;33m,\u001b[0m \u001b[1;34m'review_palate'\u001b[0m\u001b[1;33m,\u001b[0m \u001b[1;34m'review_taste'\u001b[0m\u001b[1;33m]\u001b[0m\u001b[1;33m\u001b[0m\u001b[1;33m\u001b[0m\u001b[0m\n",
      "\u001b[1;31mNameError\u001b[0m: name 'obs' is not defined"
     ]
    }
   ],
   "source": [
    "from sklearn.compose import ColumnTransformer\n",
    "from sklearn.preprocessing import StandardScaler\n",
    "import category_encoders as ce\n",
    "\n",
    "# encoder= ce.BaseNEncoder(cols=['brewery_name'],return_df=True,base=5)\n",
    "# df_cleaned_encoded=encoder.fit_transform(df_cleaned)\n",
    "# df_cleaned_encoded\n",
    "\n",
    "obs  \n",
    "all_features = ['brewery_name', 'review_aroma', 'review_appearance', 'review_palate', 'review_taste' ]\n",
    "num_cols = ['review_aroma', 'review_appearance', 'review_palate', 'review_taste']\n",
    "cat_cols = ['brewery_name']\n",
    "\n",
    "num_transformer = Pipeline(steps = [('scaler', StandardScaler())])\n",
    "cat_transformer = Pipeline(steps = [('base_n_encoder', ce.BaseNEncoder(cols=cat_cols,return_df=True,base=5) )])\n",
    "\n",
    "pre_processor = ColumnTransformer(\n",
    "    transformers = [  \n",
    "       ('cat_cols', cat_transformer, cat_cols),\n",
    "       ('num_cols', num_transformer, num_cols),\n",
    "])\n",
    "\n",
    "### Data Pre-processing pipe\n",
    "dpp_pipe = Pipeline(\n",
    "    steps =[\n",
    "        ('pre_processor', pre_processor)\n",
    "    ]\n",
    ")\n",
    "\n",
    "## Apply Pipeline Object\n",
    "trained_encoder = dpp_pipe.fit(pipeline_test_data[all_features])\n",
    "processed_data = trained_encoder.transform(pipeline_test_data[all_features])\n",
    "\n",
    "##### Save the trained encoder to reuse in new data for future prediction\n",
    "dump(trained_encoder, '../models/pipeline/trained_encoder.sav')"
   ]
  },
  {
   "cell_type": "code",
   "execution_count": 52,
   "metadata": {},
   "outputs": [
    {
     "data": {
      "text/html": [
       "<div>\n",
       "<style scoped>\n",
       "    .dataframe tbody tr th:only-of-type {\n",
       "        vertical-align: middle;\n",
       "    }\n",
       "\n",
       "    .dataframe tbody tr th {\n",
       "        vertical-align: top;\n",
       "    }\n",
       "\n",
       "    .dataframe thead th {\n",
       "        text-align: right;\n",
       "    }\n",
       "</style>\n",
       "<table border=\"1\" class=\"dataframe\">\n",
       "  <thead>\n",
       "    <tr style=\"text-align: right;\">\n",
       "      <th></th>\n",
       "      <th>review_aroma</th>\n",
       "      <th>review_appearance</th>\n",
       "      <th>review_palate</th>\n",
       "      <th>review_taste</th>\n",
       "      <th>brewery_name_0</th>\n",
       "      <th>brewery_name_1</th>\n",
       "      <th>brewery_name_2</th>\n",
       "      <th>brewery_name_3</th>\n",
       "      <th>brewery_name_4</th>\n",
       "      <th>brewery_name_5</th>\n",
       "      <th>brewery_name_6</th>\n",
       "    </tr>\n",
       "  </thead>\n",
       "  <tbody>\n",
       "    <tr>\n",
       "      <th>0</th>\n",
       "      <td>0.0</td>\n",
       "      <td>0.0</td>\n",
       "      <td>0.0</td>\n",
       "      <td>0.0</td>\n",
       "      <td>0.0</td>\n",
       "      <td>0.0</td>\n",
       "      <td>1.0</td>\n",
       "      <td>-2.487964</td>\n",
       "      <td>-2.177682</td>\n",
       "      <td>-3.288863</td>\n",
       "      <td>-3.132476</td>\n",
       "    </tr>\n",
       "    <tr>\n",
       "      <th>1</th>\n",
       "      <td>0.0</td>\n",
       "      <td>0.0</td>\n",
       "      <td>0.0</td>\n",
       "      <td>0.0</td>\n",
       "      <td>0.0</td>\n",
       "      <td>0.0</td>\n",
       "      <td>1.0</td>\n",
       "      <td>-1.771235</td>\n",
       "      <td>-1.366111</td>\n",
       "      <td>-1.090136</td>\n",
       "      <td>-1.083199</td>\n",
       "    </tr>\n",
       "    <tr>\n",
       "      <th>2</th>\n",
       "      <td>0.0</td>\n",
       "      <td>0.0</td>\n",
       "      <td>0.0</td>\n",
       "      <td>0.0</td>\n",
       "      <td>0.0</td>\n",
       "      <td>0.0</td>\n",
       "      <td>1.0</td>\n",
       "      <td>-1.771235</td>\n",
       "      <td>-1.366111</td>\n",
       "      <td>-1.090136</td>\n",
       "      <td>-1.083199</td>\n",
       "    </tr>\n",
       "    <tr>\n",
       "      <th>3</th>\n",
       "      <td>0.0</td>\n",
       "      <td>0.0</td>\n",
       "      <td>0.0</td>\n",
       "      <td>0.0</td>\n",
       "      <td>0.0</td>\n",
       "      <td>0.0</td>\n",
       "      <td>1.0</td>\n",
       "      <td>-1.054506</td>\n",
       "      <td>-0.554541</td>\n",
       "      <td>-1.823045</td>\n",
       "      <td>-1.083199</td>\n",
       "    </tr>\n",
       "    <tr>\n",
       "      <th>4</th>\n",
       "      <td>0.0</td>\n",
       "      <td>0.0</td>\n",
       "      <td>0.0</td>\n",
       "      <td>0.0</td>\n",
       "      <td>0.0</td>\n",
       "      <td>0.0</td>\n",
       "      <td>2.0</td>\n",
       "      <td>1.095680</td>\n",
       "      <td>0.257029</td>\n",
       "      <td>0.375682</td>\n",
       "      <td>0.966078</td>\n",
       "    </tr>\n",
       "  </tbody>\n",
       "</table>\n",
       "</div>"
      ],
      "text/plain": [
       "   review_aroma  review_appearance  review_palate  review_taste  \\\n",
       "0           0.0                0.0            0.0           0.0   \n",
       "1           0.0                0.0            0.0           0.0   \n",
       "2           0.0                0.0            0.0           0.0   \n",
       "3           0.0                0.0            0.0           0.0   \n",
       "4           0.0                0.0            0.0           0.0   \n",
       "\n",
       "   brewery_name_0  brewery_name_1  brewery_name_2  brewery_name_3  \\\n",
       "0             0.0             0.0             1.0       -2.487964   \n",
       "1             0.0             0.0             1.0       -1.771235   \n",
       "2             0.0             0.0             1.0       -1.771235   \n",
       "3             0.0             0.0             1.0       -1.054506   \n",
       "4             0.0             0.0             2.0        1.095680   \n",
       "\n",
       "   brewery_name_4  brewery_name_5  brewery_name_6  \n",
       "0       -2.177682       -3.288863       -3.132476  \n",
       "1       -1.366111       -1.090136       -1.083199  \n",
       "2       -1.366111       -1.090136       -1.083199  \n",
       "3       -0.554541       -1.823045       -1.083199  \n",
       "4        0.257029        0.375682        0.966078  "
      ]
     },
     "execution_count": 52,
     "metadata": {},
     "output_type": "execute_result"
    }
   ],
   "source": [
    "features = [\"review_aroma\",\"review_appearance\", \"review_palate\", \"review_taste\",\n",
    "\"brewery_name_0\",\"brewery_name_1\", \"brewery_name_2\",\"brewery_name_3\", \"brewery_name_4\", \"brewery_name_5\",\"brewery_name_6\",]\n",
    "\n",
    "cleaned_processed_data = pd.DataFrame(data=processed_data, columns=features)\n",
    "#cleaned_processed_data['beer_style'] = df_cleaned['beer_style_encoded']\n",
    "cleaned_processed_data.head(5)"
   ]
  },
  {
   "cell_type": "markdown",
   "metadata": {},
   "source": [
    "### 6. Subset the dataset for experiment as the original dataset is huge in size ,1500K observations"
   ]
  },
  {
   "cell_type": "code",
   "execution_count": 53,
   "metadata": {},
   "outputs": [],
   "source": [
    "from src.data.sets import split_sets_random, save_sets, load_sets, subset_x_y\n",
    "\n",
    "features = [\"review_aroma\",\"review_appearance\", \"review_palate\", \"review_taste\" ,\n",
    "            \"brewery_name_0\",\"brewery_name_1\", \"brewery_name_2\",\"brewery_name_3\", \"brewery_name_4\", \"brewery_name_5\",\"brewery_name_6\" ]\n",
    "\n",
    "y_main, X_main = subset_x_y(cleaned_processed_data[features], df_cleaned['beer_style_encoded'], 0, 400000)"
   ]
  },
  {
   "cell_type": "code",
   "execution_count": 54,
   "metadata": {},
   "outputs": [],
   "source": [
    "# Check the size of the Target Class Distribution in the subset Dataset\n",
    "(unique, counts) = np.unique(y_main, return_counts=True)\n",
    "frequencies = np.asarray((unique, counts)).T\n",
    "# print(frequencies)\n",
    "## Remark - the distribution is same as original"
   ]
  },
  {
   "cell_type": "code",
   "execution_count": 55,
   "metadata": {},
   "outputs": [
    {
     "data": {
      "text/html": [
       "<div>\n",
       "<style scoped>\n",
       "    .dataframe tbody tr th:only-of-type {\n",
       "        vertical-align: middle;\n",
       "    }\n",
       "\n",
       "    .dataframe tbody tr th {\n",
       "        vertical-align: top;\n",
       "    }\n",
       "\n",
       "    .dataframe thead th {\n",
       "        text-align: right;\n",
       "    }\n",
       "</style>\n",
       "<table border=\"1\" class=\"dataframe\">\n",
       "  <thead>\n",
       "    <tr style=\"text-align: right;\">\n",
       "      <th></th>\n",
       "      <th>review_aroma</th>\n",
       "      <th>review_appearance</th>\n",
       "      <th>review_palate</th>\n",
       "      <th>review_taste</th>\n",
       "      <th>brewery_name_0</th>\n",
       "      <th>brewery_name_1</th>\n",
       "      <th>brewery_name_2</th>\n",
       "      <th>brewery_name_3</th>\n",
       "      <th>brewery_name_4</th>\n",
       "      <th>brewery_name_5</th>\n",
       "      <th>brewery_name_6</th>\n",
       "      <th>beer_style</th>\n",
       "    </tr>\n",
       "  </thead>\n",
       "  <tbody>\n",
       "    <tr>\n",
       "      <th>0</th>\n",
       "      <td>0.0</td>\n",
       "      <td>0.0</td>\n",
       "      <td>0.0</td>\n",
       "      <td>0.0</td>\n",
       "      <td>0.0</td>\n",
       "      <td>0.0</td>\n",
       "      <td>1.0</td>\n",
       "      <td>-2.487964</td>\n",
       "      <td>-2.177682</td>\n",
       "      <td>-3.288863</td>\n",
       "      <td>-3.132476</td>\n",
       "      <td>65</td>\n",
       "    </tr>\n",
       "    <tr>\n",
       "      <th>1</th>\n",
       "      <td>0.0</td>\n",
       "      <td>0.0</td>\n",
       "      <td>0.0</td>\n",
       "      <td>0.0</td>\n",
       "      <td>0.0</td>\n",
       "      <td>0.0</td>\n",
       "      <td>1.0</td>\n",
       "      <td>-1.771235</td>\n",
       "      <td>-1.366111</td>\n",
       "      <td>-1.090136</td>\n",
       "      <td>-1.083199</td>\n",
       "      <td>51</td>\n",
       "    </tr>\n",
       "    <tr>\n",
       "      <th>2</th>\n",
       "      <td>0.0</td>\n",
       "      <td>0.0</td>\n",
       "      <td>0.0</td>\n",
       "      <td>0.0</td>\n",
       "      <td>0.0</td>\n",
       "      <td>0.0</td>\n",
       "      <td>1.0</td>\n",
       "      <td>-1.771235</td>\n",
       "      <td>-1.366111</td>\n",
       "      <td>-1.090136</td>\n",
       "      <td>-1.083199</td>\n",
       "      <td>59</td>\n",
       "    </tr>\n",
       "    <tr>\n",
       "      <th>3</th>\n",
       "      <td>0.0</td>\n",
       "      <td>0.0</td>\n",
       "      <td>0.0</td>\n",
       "      <td>0.0</td>\n",
       "      <td>0.0</td>\n",
       "      <td>0.0</td>\n",
       "      <td>1.0</td>\n",
       "      <td>-1.054506</td>\n",
       "      <td>-0.554541</td>\n",
       "      <td>-1.823045</td>\n",
       "      <td>-1.083199</td>\n",
       "      <td>61</td>\n",
       "    </tr>\n",
       "    <tr>\n",
       "      <th>4</th>\n",
       "      <td>0.0</td>\n",
       "      <td>0.0</td>\n",
       "      <td>0.0</td>\n",
       "      <td>0.0</td>\n",
       "      <td>0.0</td>\n",
       "      <td>0.0</td>\n",
       "      <td>2.0</td>\n",
       "      <td>1.095680</td>\n",
       "      <td>0.257029</td>\n",
       "      <td>0.375682</td>\n",
       "      <td>0.966078</td>\n",
       "      <td>9</td>\n",
       "    </tr>\n",
       "  </tbody>\n",
       "</table>\n",
       "</div>"
      ],
      "text/plain": [
       "   review_aroma  review_appearance  review_palate  review_taste  \\\n",
       "0           0.0                0.0            0.0           0.0   \n",
       "1           0.0                0.0            0.0           0.0   \n",
       "2           0.0                0.0            0.0           0.0   \n",
       "3           0.0                0.0            0.0           0.0   \n",
       "4           0.0                0.0            0.0           0.0   \n",
       "\n",
       "   brewery_name_0  brewery_name_1  brewery_name_2  brewery_name_3  \\\n",
       "0             0.0             0.0             1.0       -2.487964   \n",
       "1             0.0             0.0             1.0       -1.771235   \n",
       "2             0.0             0.0             1.0       -1.771235   \n",
       "3             0.0             0.0             1.0       -1.054506   \n",
       "4             0.0             0.0             2.0        1.095680   \n",
       "\n",
       "   brewery_name_4  brewery_name_5  brewery_name_6  beer_style  \n",
       "0       -2.177682       -3.288863       -3.132476          65  \n",
       "1       -1.366111       -1.090136       -1.083199          51  \n",
       "2       -1.366111       -1.090136       -1.083199          59  \n",
       "3       -0.554541       -1.823045       -1.083199          61  \n",
       "4        0.257029        0.375682        0.966078           9  "
      ]
     },
     "execution_count": 55,
     "metadata": {},
     "output_type": "execute_result"
    }
   ],
   "source": [
    "X_main['beer_style'] = df_cleaned['beer_style_encoded']\n",
    "X_main.head()"
   ]
  },
  {
   "cell_type": "markdown",
   "metadata": {},
   "source": [
    "### 7. Split the encoded and scaled 200k dataset into Train-Val-Test sets"
   ]
  },
  {
   "cell_type": "code",
   "execution_count": 57,
   "metadata": {},
   "outputs": [],
   "source": [
    "pre_processed_df = cleaned_processed_data.copy()\n",
    "X_train, y_train, X_val, y_val, X_test, y_test = split_sets_random(X_main, \"beer_style\", test_ratio=0.2, to_numpy=True)"
   ]
  },
  {
   "cell_type": "code",
   "execution_count": 58,
   "metadata": {},
   "outputs": [
    {
     "name": "stdout",
     "output_type": "stream",
     "text": [
      "(240000, 11)\n",
      "(80000, 11)\n",
      "(80000, 11)\n"
     ]
    }
   ],
   "source": [
    "print(X_train.shape)\n",
    "print(X_val.shape)\n",
    "print(X_test.shape)"
   ]
  },
  {
   "cell_type": "markdown",
   "metadata": {},
   "source": [
    "###  8. Baseline Model"
   ]
  },
  {
   "cell_type": "code",
   "execution_count": 43,
   "metadata": {},
   "outputs": [],
   "source": [
    "from src.models.null import NullModel\n",
    "\n",
    "base_model = NullModel(target_type=\"classification\")\n",
    "y_base = base_model.fit_predict(y_train)\n",
    "\n",
    "from src.models.performance import print_reg_perf\n",
    "#print_reg_perf(y_base, y_train, set_name='Training')"
   ]
  },
  {
   "cell_type": "markdown",
   "metadata": {},
   "source": [
    "### 9. Load Pytorch Dataset"
   ]
  },
  {
   "cell_type": "code",
   "execution_count": 59,
   "metadata": {},
   "outputs": [],
   "source": [
    "from src.models.pytorch import PytorchDataset\n",
    "\n",
    "train_dataset = PytorchDataset(X=X_train, y=y_train)\n",
    "val_dataset = PytorchDataset(X=X_val, y=y_val)\n",
    "test_dataset = PytorchDataset(X=X_test, y=y_test)"
   ]
  },
  {
   "cell_type": "code",
   "execution_count": 60,
   "metadata": {},
   "outputs": [],
   "source": [
    "(unique, counts) = np.unique(y_train, return_counts=True)\n",
    "frequencies = np.asarray((unique, counts)).T\n",
    "#print(frequencies)"
   ]
  },
  {
   "cell_type": "markdown",
   "metadata": {},
   "source": [
    "### 10. Build Neural Net Model"
   ]
  },
  {
   "cell_type": "code",
   "execution_count": 124,
   "metadata": {},
   "outputs": [
    {
     "name": "stdout",
     "output_type": "stream",
     "text": [
      "The autoreload extension is already loaded. To reload it, use:\n",
      "  %reload_ext autoreload\n"
     ]
    }
   ],
   "source": [
    "import torch as torch\n",
    "import torch.nn as nn\n",
    "from src.models.pytorch import PytorchMultiClass\n",
    "import torch.nn.functional as F\n",
    "%load_ext autoreload\n",
    "%autoreload 2\n",
    "\n",
    "model = PytorchMultiClass(X_train.shape[1])"
   ]
  },
  {
   "cell_type": "code",
   "execution_count": 104,
   "metadata": {},
   "outputs": [
    {
     "data": {
      "text/plain": [
       "PytorchMultiClass(\n",
       "  (layer_1): Linear(in_features=11, out_features=80, bias=True)\n",
       "  (layer_2): Linear(in_features=80, out_features=100, bias=True)\n",
       "  (layer_out): Linear(in_features=100, out_features=104, bias=True)\n",
       "  (softmax): Softmax(dim=1)\n",
       ")"
      ]
     },
     "execution_count": 104,
     "metadata": {},
     "output_type": "execute_result"
    }
   ],
   "source": [
    "from src.models.pytorch import get_device\n",
    "device = get_device()\n",
    "model.to(device)"
   ]
  },
  {
   "cell_type": "code",
   "execution_count": 105,
   "metadata": {},
   "outputs": [],
   "source": [
    "criterion = nn.CrossEntropyLoss()\n",
    "optimizer = torch.optim.Adam(model.parameters(), lr=0.1)"
   ]
  },
  {
   "cell_type": "code",
   "execution_count": 107,
   "metadata": {},
   "outputs": [
    {
     "name": "stdout",
     "output_type": "stream",
     "text": [
      "Epoch: 0\n",
      "\t(train)\t|\tLoss: 0.0305\t|\tAcc: 9.1%\n",
      "\t(valid)\t|\tLoss: 0.0305\t|\tAcc: 9.4%\n",
      "Epoch: 1\n",
      "\t(train)\t|\tLoss: 0.0305\t|\tAcc: 9.1%\n",
      "\t(valid)\t|\tLoss: 0.0305\t|\tAcc: 9.4%\n",
      "Epoch: 2\n",
      "\t(train)\t|\tLoss: 0.0305\t|\tAcc: 9.1%\n",
      "\t(valid)\t|\tLoss: 0.0305\t|\tAcc: 9.4%\n",
      "Epoch: 3\n",
      "\t(train)\t|\tLoss: 0.0305\t|\tAcc: 9.1%\n",
      "\t(valid)\t|\tLoss: 0.0305\t|\tAcc: 9.4%\n",
      "Epoch: 4\n",
      "\t(train)\t|\tLoss: 0.0305\t|\tAcc: 9.1%\n",
      "\t(valid)\t|\tLoss: 0.0305\t|\tAcc: 9.4%\n",
      "Epoch: 5\n",
      "\t(train)\t|\tLoss: 0.0305\t|\tAcc: 9.1%\n",
      "\t(valid)\t|\tLoss: 0.0305\t|\tAcc: 9.4%\n",
      "Epoch: 6\n",
      "\t(train)\t|\tLoss: 0.0305\t|\tAcc: 9.1%\n",
      "\t(valid)\t|\tLoss: 0.0305\t|\tAcc: 9.4%\n",
      "Epoch: 7\n",
      "\t(train)\t|\tLoss: 0.0305\t|\tAcc: 9.1%\n",
      "\t(valid)\t|\tLoss: 0.0305\t|\tAcc: 9.4%\n",
      "Epoch: 8\n",
      "\t(train)\t|\tLoss: 0.0305\t|\tAcc: 9.1%\n",
      "\t(valid)\t|\tLoss: 0.0305\t|\tAcc: 9.4%\n",
      "Epoch: 9\n",
      "\t(train)\t|\tLoss: 0.0305\t|\tAcc: 9.1%\n",
      "\t(valid)\t|\tLoss: 0.0305\t|\tAcc: 9.4%\n"
     ]
    }
   ],
   "source": [
    "from src.models.pytorch import train_classification, test_classification\n",
    "\n",
    "N_EPOCHS = 10\n",
    "BATCH_SIZE = 150\n",
    "\n",
    "for epoch in range(N_EPOCHS):\n",
    "    train_loss, train_acc = train_classification(train_dataset, model=model, criterion=criterion, optimizer=optimizer, batch_size=BATCH_SIZE, device=device)\n",
    "    valid_loss, valid_acc = test_classification(val_dataset, model=model, criterion=criterion, batch_size=BATCH_SIZE, device=device)\n",
    "\n",
    "    print(f'Epoch: {epoch}')\n",
    "    print(f'\\t(train)\\t|\\tLoss: {train_loss:.4f}\\t|\\tAcc: {train_acc * 100:.1f}%')\n",
    "    print(f'\\t(valid)\\t|\\tLoss: {valid_loss:.4f}\\t|\\tAcc: {valid_acc * 100:.1f}%')"
   ]
  },
  {
   "cell_type": "code",
   "execution_count": 108,
   "metadata": {},
   "outputs": [
    {
     "name": "stdout",
     "output_type": "stream",
     "text": [
      "\tLoss: 0.030502\t | \tAccuracy:0.1\n"
     ]
    }
   ],
   "source": [
    "test_loss, test_acc =  test_classification(test_dataset, model=model, criterion=criterion, batch_size=BATCH_SIZE, device=device)\n",
    "print(f'\\tLoss: {test_loss:4f}\\t | \\tAccuracy:{test_acc:.1f}')"
   ]
  },
  {
   "cell_type": "code",
   "execution_count": 129,
   "metadata": {},
   "outputs": [],
   "source": [
    "torch.save(model, \"../models/pytorch_multi_beer_type_prediction_nn_pipeline.pt\")"
   ]
  },
  {
   "cell_type": "markdown",
   "metadata": {},
   "source": [
    "### 11. Unit Testing of API"
   ]
  },
  {
   "cell_type": "code",
   "execution_count": 122,
   "metadata": {},
   "outputs": [],
   "source": [
    "import pandas as pd\n",
    "import numpy as np\n",
    "import torch as torch\n",
    "import os\n",
    "import sys\n",
    "from joblib import dump, load\n",
    "sys.path.append(os.path.abspath('../'))\n",
    "from src.models.pytorch import get_device, predict\n",
    "\n",
    "#### Load the saved Model\n",
    "model = torch.load('../models/pytorch_multi_beer_type_prediction_nn_pipeline.pt', encoding='ascii')"
   ]
  },
  {
   "cell_type": "markdown",
   "metadata": {},
   "source": [
    "### Unit Testing:  @app.post('/beer/type/many')"
   ]
  },
  {
   "cell_type": "code",
   "execution_count": 128,
   "metadata": {},
   "outputs": [
    {
     "data": {
      "text/plain": [
       "array(['Kölsch', 'Scottish Gruit / Ancient Herbed Ale', 'Weizenbock',\n",
       "       'Chile Beer'], dtype=object)"
      ]
     },
     "execution_count": 128,
     "metadata": {},
     "output_type": "execute_result"
    }
   ],
   "source": [
    "obs = pd.DataFrame({'brewery_name': [\"Caldera Brewing Company\", \"Hello\", \"Piniavos Alutis\", \"Rio Salado Brewing Company\"],\n",
    "                       'review_aroma': [-1, 6, 7, 5],\n",
    "                       'review_appearance': [3, 1, 4, 0],\n",
    "                       'review_palate': [4,7, 2, 3],\n",
    "                       'review_taste': [2,5, 1, 1]})\n",
    " \n",
    "trained_encoder = load( '../models/pipeline/trained_encoder.sav')\n",
    "obs_trans = trained_encoder.transform(obs)\n",
    "\n",
    "\n",
    "device = get_device()\n",
    "df_tensor= torch.Tensor(np.array(obs_trans)).to(device)\n",
    "\n",
    "prediction = model(df_tensor).argmax(1)\n",
    "\n",
    "le = load('../models/pipeline/te_pipeline.sav')\n",
    "pred_name = le.inverse_transform(prediction.tolist())\n",
    "pred_name"
   ]
  },
  {
   "cell_type": "markdown",
   "metadata": {},
   "source": [
    "### Unit Testing: @app.post('/beer/type/single')"
   ]
  },
  {
   "cell_type": "code",
   "execution_count": 117,
   "metadata": {},
   "outputs": [
    {
     "name": "stdout",
     "output_type": "stream",
     "text": [
      "Lambic - Fruit\n"
     ]
    }
   ],
   "source": [
    "from api.app.main import predict_single\n",
    "\n",
    "result = predict_single(\"Yazoo Brewing Campany\",  4,3 ,4,5)\n",
    "print(result)"
   ]
  },
  {
   "cell_type": "code",
   "execution_count": 120,
   "metadata": {},
   "outputs": [],
   "source": [
    "def convert_cr_to_dataframe(report_dict: {}) -> pd.DataFrame:\n",
    "    \"\"\"\n",
    "    Converts the dictionary format of the Classification Report (CR) to a\n",
    "    dataframe for easy of sorting\n",
    "    :param report_dict: The dictionary returned by \n",
    "    sklearn.metrics.classification_report.\n",
    "    :return: Returns a dataframe of the same information.\n",
    "    \"\"\"\n",
    "    beer_style = list(report_dict.keys())\n",
    "    beer_style.remove('accuracy')\n",
    "    beer_style.remove('macro avg')\n",
    "    beer_style.remove('weighted avg')\n",
    "    precision = []\n",
    "    recall = []\n",
    "    f1 = []\n",
    "    support = []\n",
    "    for key, value in report_dict.items():\n",
    "        if key not in ['accuracy', 'macro avg', 'weighted avg']:\n",
    "            precision.append(value['precision'])\n",
    "            recall.append(value['recall'])\n",
    "            f1.append(value['f1-score'])\n",
    "            support.append(value['support'])\n",
    "    result = pd.DataFrame({'beer_style': beer_style,\n",
    "                           'precision': precision,\n",
    "                           'recall': recall,\n",
    "                           'f1': f1,\n",
    "                           'support': support})\n",
    "    return result"
   ]
  },
  {
   "cell_type": "markdown",
   "metadata": {},
   "source": [
    "### 12. Model Accuracy"
   ]
  },
  {
   "cell_type": "code",
   "execution_count": 125,
   "metadata": {},
   "outputs": [
    {
     "data": {
      "text/html": [
       "<div>\n",
       "<style scoped>\n",
       "    .dataframe tbody tr th:only-of-type {\n",
       "        vertical-align: middle;\n",
       "    }\n",
       "\n",
       "    .dataframe tbody tr th {\n",
       "        vertical-align: top;\n",
       "    }\n",
       "\n",
       "    .dataframe thead th {\n",
       "        text-align: right;\n",
       "    }\n",
       "</style>\n",
       "<table border=\"1\" class=\"dataframe\">\n",
       "  <thead>\n",
       "    <tr style=\"text-align: right;\">\n",
       "      <th></th>\n",
       "      <th>beer_style</th>\n",
       "      <th>precision</th>\n",
       "      <th>recall</th>\n",
       "      <th>f1</th>\n",
       "      <th>support</th>\n",
       "    </tr>\n",
       "  </thead>\n",
       "  <tbody>\n",
       "    <tr>\n",
       "      <th>0</th>\n",
       "      <td>0</td>\n",
       "      <td>0.001435</td>\n",
       "      <td>0.002123</td>\n",
       "      <td>0.001712</td>\n",
       "      <td>471</td>\n",
       "    </tr>\n",
       "    <tr>\n",
       "      <th>1</th>\n",
       "      <td>1</td>\n",
       "      <td>0.010689</td>\n",
       "      <td>0.020702</td>\n",
       "      <td>0.014098</td>\n",
       "      <td>1739</td>\n",
       "    </tr>\n",
       "    <tr>\n",
       "      <th>2</th>\n",
       "      <td>2</td>\n",
       "      <td>0.000000</td>\n",
       "      <td>0.000000</td>\n",
       "      <td>0.000000</td>\n",
       "      <td>2074</td>\n",
       "    </tr>\n",
       "    <tr>\n",
       "      <th>3</th>\n",
       "      <td>3</td>\n",
       "      <td>0.000000</td>\n",
       "      <td>0.000000</td>\n",
       "      <td>0.000000</td>\n",
       "      <td>521</td>\n",
       "    </tr>\n",
       "    <tr>\n",
       "      <th>4</th>\n",
       "      <td>4</td>\n",
       "      <td>0.028182</td>\n",
       "      <td>0.036449</td>\n",
       "      <td>0.031787</td>\n",
       "      <td>1701</td>\n",
       "    </tr>\n",
       "    <tr>\n",
       "      <th>...</th>\n",
       "      <td>...</td>\n",
       "      <td>...</td>\n",
       "      <td>...</td>\n",
       "      <td>...</td>\n",
       "      <td>...</td>\n",
       "    </tr>\n",
       "    <tr>\n",
       "      <th>99</th>\n",
       "      <td>99</td>\n",
       "      <td>0.000000</td>\n",
       "      <td>0.000000</td>\n",
       "      <td>0.000000</td>\n",
       "      <td>676</td>\n",
       "    </tr>\n",
       "    <tr>\n",
       "      <th>100</th>\n",
       "      <td>100</td>\n",
       "      <td>0.002492</td>\n",
       "      <td>0.029091</td>\n",
       "      <td>0.004591</td>\n",
       "      <td>275</td>\n",
       "    </tr>\n",
       "    <tr>\n",
       "      <th>101</th>\n",
       "      <td>101</td>\n",
       "      <td>0.004644</td>\n",
       "      <td>0.023438</td>\n",
       "      <td>0.007752</td>\n",
       "      <td>128</td>\n",
       "    </tr>\n",
       "    <tr>\n",
       "      <th>102</th>\n",
       "      <td>102</td>\n",
       "      <td>0.000000</td>\n",
       "      <td>0.000000</td>\n",
       "      <td>0.000000</td>\n",
       "      <td>655</td>\n",
       "    </tr>\n",
       "    <tr>\n",
       "      <th>103</th>\n",
       "      <td>103</td>\n",
       "      <td>0.027778</td>\n",
       "      <td>0.001329</td>\n",
       "      <td>0.002536</td>\n",
       "      <td>2258</td>\n",
       "    </tr>\n",
       "  </tbody>\n",
       "</table>\n",
       "<p>104 rows × 5 columns</p>\n",
       "</div>"
      ],
      "text/plain": [
       "    beer_style  precision    recall        f1  support\n",
       "0            0   0.001435  0.002123  0.001712      471\n",
       "1            1   0.010689  0.020702  0.014098     1739\n",
       "2            2   0.000000  0.000000  0.000000     2074\n",
       "3            3   0.000000  0.000000  0.000000      521\n",
       "4            4   0.028182  0.036449  0.031787     1701\n",
       "..         ...        ...       ...       ...      ...\n",
       "99          99   0.000000  0.000000  0.000000      676\n",
       "100        100   0.002492  0.029091  0.004591      275\n",
       "101        101   0.004644  0.023438  0.007752      128\n",
       "102        102   0.000000  0.000000  0.000000      655\n",
       "103        103   0.027778  0.001329  0.002536     2258\n",
       "\n",
       "[104 rows x 5 columns]"
      ]
     },
     "execution_count": 125,
     "metadata": {},
     "output_type": "execute_result"
    }
   ],
   "source": [
    "from sklearn.metrics import classification_report\n",
    "\n",
    "\n",
    "device = get_device()\n",
    "test_df_tensor= torch.Tensor(np.array(X_test)).to(device)\n",
    "test_df_tensor\n",
    "    \n",
    "# #  Make Prediction\n",
    "prediction = model(test_df_tensor).argmax(1)\n",
    "prediction\n",
    "\n",
    "y_test\n",
    "report_dict = classification_report(y_test,\n",
    "                                    prediction,\n",
    "                                    output_dict=True)\n",
    "report_df = convert_cr_to_dataframe(report_dict)\n",
    "report_df"
   ]
  },
  {
   "cell_type": "code",
   "execution_count": 126,
   "metadata": {},
   "outputs": [],
   "source": [
    "report_df.to_csv(\"../reports/nn_classification_report.csv\")"
   ]
  },
  {
   "cell_type": "code",
   "execution_count": 138,
   "metadata": {},
   "outputs": [
    {
     "name": "stdout",
     "output_type": "stream",
     "text": [
      "Pandas version 1.1.5\n"
     ]
    }
   ],
   "source": [
    "print(\"Pandas version\", pd.__version__)"
   ]
  }
 ],
 "metadata": {
  "kernelspec": {
   "display_name": "Python 3",
   "language": "python",
   "name": "python3"
  },
  "language_info": {
   "codemirror_mode": {
    "name": "ipython",
    "version": 3
   },
   "file_extension": ".py",
   "mimetype": "text/x-python",
   "name": "python",
   "nbconvert_exporter": "python",
   "pygments_lexer": "ipython3",
   "version": "3.6.9"
  }
 },
 "nbformat": 4,
 "nbformat_minor": 4
}
